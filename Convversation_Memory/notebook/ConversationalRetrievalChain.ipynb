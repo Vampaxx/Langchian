{
 "cells": [
  {
   "cell_type": "code",
   "execution_count": 1,
   "metadata": {},
   "outputs": [
    {
     "data": {
      "text/plain": [
       "'c:\\\\Users\\\\Asus\\\\Machine_learning\\\\LLM\\\\Langchian\\\\notebook'"
      ]
     },
     "execution_count": 1,
     "metadata": {},
     "output_type": "execute_result"
    }
   ],
   "source": [
    "import os\n",
    "%pwd"
   ]
  },
  {
   "cell_type": "code",
   "execution_count": 2,
   "metadata": {},
   "outputs": [],
   "source": [
    "os.chdir(\"../\")"
   ]
  },
  {
   "cell_type": "code",
   "execution_count": 3,
   "metadata": {},
   "outputs": [],
   "source": [
    "import streamlit as st \n",
    "from dotenv import load_dotenv\n",
    "from langchain.llms import GooglePalm\n",
    "from langchain.prompts import SemanticSimilarityExampleSelector\n",
    "from langchain.vectorstores import Chroma\n",
    "from langchain.prompts import PromptTemplate\n",
    "from langchain.text_splitter import CharacterTextSplitter\n",
    "from langchain.embeddings import HuggingFaceEmbeddings\n",
    "from langchain.chains.question_answering import load_qa_chain\n",
    "from langchain.chains import ConversationalRetrievalChain\n",
    "from langchain.memory import ConversationBufferMemory\n",
    "from langchain.schema import SystemMessage,HumanMessage,AIMessage\n",
    "\n",
    "from utils.common import *"
   ]
  },
  {
   "cell_type": "code",
   "execution_count": 4,
   "metadata": {},
   "outputs": [],
   "source": [
    "pdf_text = pdf_text = \"\"\"ARJUN P V\n",
    "Data Scientist / Machine Learning\n",
    "(+91) 9400508669\n",
    "arjunappu1001@gmail.com\n",
    "https://github.com/Vampaxx\n",
    "Linkedin link\n",
    "OVERVIEW Working professional with around 3 years of industrial experience and 1.8 years of relevant\n",
    "experience in Data science and Machine learning field. I have a strong foundation in Machine\n",
    "learning, Data analysis and deep learning working on various projects, gaining a diverse set of\n",
    "skills. I'm a valuable contributor to any team and well-equipped to handle the challenges and\n",
    "responsibilities of being a passionate Data scientist. Dedicated to leveraging my analytical skills\n",
    "and keen eye for data trends, patterns to empower organizations in making data driven decisions.\n",
    "EDUCATION APJ ABDUL KALAM TECHNOLOGICAL UNIVERSITY 2015-2019\n",
    "• Bachelors in Mechanical Engineering\n",
    "WORKING EXPERIENCE\n",
    "• Data Scientist | Strategist [10/2022 - Present]\n",
    "Indo Space Cable Network\n",
    "o Successfully orchestrated a remarkable 41% surge in internet connections over the 4 months,\n",
    "driving substantial business growth and expanding the company's market presence.\n",
    "o Better allocation of service team to improve the service quality and save time and improve profit of\n",
    "the company.\n",
    "o “Proposed Project: “Complaint registration and auto allocation of Service man”\n",
    "• Data Scientist | Machine Learning Engineer [04/2022 - Present]\n",
    "Freelancing\n",
    "o Successfully developed a highly accurate brain tumor prediction model using MRI images,\n",
    "achieving an impressive 95% accuracy [TensorFlow, CNN, git, Pipeline building, API, Python,\n",
    "Keras]\n",
    "• Managing data and workflows in a more organized and reproducible manner by DvC\n",
    "o Developed Diabetic retinopathy multiclass prediction model, with 42% improvement with CNN\n",
    "ensemble model by model optimization and image preprocessing and hyperparameter tuning.\n",
    "• Combine different CNN architecture to improve the performance of models (+8%)\n",
    "o Analysis data and generate insight to business for better understand the customer demand and\n",
    "improved the inventory control. [Python, Statistical analysis ] [02/2022]\n",
    "• Mechanical Engineering Trainee [05/2021 - 05/2022]\n",
    "The Western India Plywoods LTD.\n",
    "o Preventive and breakdown maintenance of plant, comprising of hydraulic presses, Boiler, Air\n",
    "compressor, Defibrator, Pumps, Control Valves etc\n",
    "o Preventive and breakdown maintenance of resin plant, hydraulic and pneumatic machines.\n",
    "o Quality control & Quality assurance\n",
    "TECHNICAL SKILLS\n",
    "• Programming Languages:\n",
    "o Python: Proficient data manipulation, analysis, and building machine learning models,\n",
    "OOPs concept\n",
    "o SQL\n",
    "• Machine Learning:\n",
    "o Deep Learning: CNN, Neural network, NLP, LSTM, LLM (Large Language Model)\n",
    "o Supervised learning: Linear Regression, KNN\n",
    "o Hyperparameter Tuning: Expertise in fine-tuning model parameters\n",
    "• Numpy, Pandas, Scikit Learn, TensorFlow, Keras, Matplotlib, Seaborn\n",
    "• Data Analysis data Processing, data cleaning, Image preprocessing,Data Visualization\n",
    "• Mathematics and Statistics:\n",
    "▪ Feature extraction,\n",
    "• Crafting Data Pipelines, Data Ingestion, Model Building\n",
    "• Git,WebAPI, Pyspark\n",
    "SOFT SKILLS\n",
    "• Creative, Analytical and problem-solving skills\n",
    "• Strong team mentality\"\"\""
   ]
  },
  {
   "cell_type": "markdown",
   "metadata": {},
   "source": []
  },
  {
   "cell_type": "code",
   "execution_count": 5,
   "metadata": {},
   "outputs": [],
   "source": [
    "def main():\n",
    "    load_dotenv()\n",
    "    model   = GooglePalm(google_api_key=os.getenv(\"PALM_API_KEY\"),temperature=0.1)\n",
    "    memory  = ConversationBufferMemory(memory_key='chat_history',return_message=True)\n",
    "\n",
    "    text_chunks = get_text_chunks(pdf_text)\n",
    "    vector      = get_vectorstore(text_chunks=text_chunks)\n",
    "    conversation= ConversationalRetrievalChain.from_llm(llm=model,   \n",
    "                                                verbose=True,\n",
    "                                                #memory=memory,\n",
    "                                                retriever=vector.as_retriever())\n",
    "    \n",
    "    return conversation\n",
    "        "
   ]
  },
  {
   "cell_type": "code",
   "execution_count": 6,
   "metadata": {},
   "outputs": [],
   "source": [
    "conversation = main()"
   ]
  },
  {
   "cell_type": "code",
   "execution_count": 7,
   "metadata": {},
   "outputs": [],
   "source": [
    "message = [\n",
    "    SystemMessage(content=\"You are a helpful assistant\")\n",
    "]"
   ]
  },
  {
   "cell_type": "code",
   "execution_count": 8,
   "metadata": {},
   "outputs": [
    {
     "name": "stdout",
     "output_type": "stream",
     "text": [
      "\n",
      "\n",
      "\u001b[1m> Entering new StuffDocumentsChain chain...\u001b[0m\n",
      "\n",
      "\n",
      "\u001b[1m> Entering new LLMChain chain...\u001b[0m\n",
      "Prompt after formatting:\n",
      "\u001b[32;1m\u001b[1;3mUse the following pieces of context to answer the question at the end. If you don't know the answer, just say that you don't know, don't try to make up an answer.\n",
      "\n",
      "• Numpy, Pandas, Scikit Learn, TensorFlow, Keras, Matplotlib, Seaborn\n",
      "• Data Analysis data Processing, data cleaning, Image preprocessing,Data Visualization\n",
      "• Mathematics and Statistics:\n",
      "▪ Feature extraction,\n",
      "• Crafting Data Pipelines, Data Ingestion, Model Building\n",
      "• Git,WebAPI, Pyspark\n",
      "SOFT SKILLS\n",
      "• Creative, Analytical and problem-solving skills\n",
      "• Strong team mentality\n",
      "\n",
      "Freelancing\n",
      "o Successfully developed a highly accurate brain tumor prediction model using MRI images,\n",
      "achieving an impressive 95% accuracy [TensorFlow, CNN, git, Pipeline building, API, Python,\n",
      "Keras]\n",
      "• Managing data and workflows in a more organized and reproducible manner by DvC\n",
      "o Developed Diabetic retinopathy multiclass prediction model, with 42% improvement with CNN\n",
      "ensemble model by model optimization and image preprocessing and hyperparameter tuning.\n",
      "• Combine different CNN architecture to improve the performance of models (+8%)\n",
      "o Analysis data and generate insight to business for better understand the customer demand and\n",
      "improved the inventory control. [Python, Statistical analysis ] [02/2022]\n",
      "• Mechanical Engineering Trainee [05/2021 - 05/2022]\n",
      "The Western India Plywoods LTD.\n",
      "o Preventive and breakdown maintenance of plant, comprising of hydraulic presses, Boiler, Air\n",
      "compressor, Defibrator, Pumps, Control Valves etc\n",
      "\n",
      "EDUCATION APJ ABDUL KALAM TECHNOLOGICAL UNIVERSITY 2015-2019\n",
      "• Bachelors in Mechanical Engineering\n",
      "WORKING EXPERIENCE\n",
      "• Data Scientist | Strategist [10/2022 - Present]\n",
      "Indo Space Cable Network\n",
      "o Successfully orchestrated a remarkable 41% surge in internet connections over the 4 months,\n",
      "driving substantial business growth and expanding the company's market presence.\n",
      "o Better allocation of service team to improve the service quality and save time and improve profit of\n",
      "the company.\n",
      "o “Proposed Project: “Complaint registration and auto allocation of Service man”\n",
      "• Data Scientist | Machine Learning Engineer [04/2022 - Present]\n",
      "Freelancing\n",
      "o Successfully developed a highly accurate brain tumor prediction model using MRI images,\n",
      "achieving an impressive 95% accuracy [TensorFlow, CNN, git, Pipeline building, API, Python,\n",
      "Keras]\n",
      "• Managing data and workflows in a more organized and reproducible manner by DvC\n",
      "\n",
      "ARJUN P V\n",
      "Data Scientist / Machine Learning\n",
      "(+91) 9400508669\n",
      "arjunappu1001@gmail.com\n",
      "https://github.com/Vampaxx\n",
      "Linkedin link\n",
      "OVERVIEW Working professional with around 3 years of industrial experience and 1.8 years of relevant\n",
      "experience in Data science and Machine learning field. I have a strong foundation in Machine\n",
      "learning, Data analysis and deep learning working on various projects, gaining a diverse set of\n",
      "skills. I'm a valuable contributor to any team and well-equipped to handle the challenges and\n",
      "responsibilities of being a passionate Data scientist. Dedicated to leveraging my analytical skills\n",
      "and keen eye for data trends, patterns to empower organizations in making data driven decisions.\n",
      "EDUCATION APJ ABDUL KALAM TECHNOLOGICAL UNIVERSITY 2015-2019\n",
      "• Bachelors in Mechanical Engineering\n",
      "WORKING EXPERIENCE\n",
      "• Data Scientist | Strategist [10/2022 - Present]\n",
      "Indo Space Cable Network\n",
      "o Successfully orchestrated a remarkable 41% surge in internet connections over the 4 months,\n",
      "\n",
      "Question: what is the number 100 divided by 5\n",
      "Helpful Answer:\u001b[0m\n",
      "\n",
      "\u001b[1m> Finished chain.\u001b[0m\n",
      "\n",
      "\u001b[1m> Finished chain.\u001b[0m\n"
     ]
    }
   ],
   "source": [
    "\n",
    "chat_history    = []\n",
    "query           = \"what is the number 100 divided by 5\"\n",
    "response        = conversation({'question':query,\n",
    "                                'chat_history':chat_history})\n",
    "message.append(HumanMessage(content=query))\n",
    "message.append(AIMessage(content=response['answer']))"
   ]
  },
  {
   "cell_type": "code",
   "execution_count": 9,
   "metadata": {},
   "outputs": [
    {
     "name": "stdout",
     "output_type": "stream",
     "text": [
      "20\n"
     ]
    }
   ],
   "source": [
    "print(response['answer'])"
   ]
  },
  {
   "cell_type": "code",
   "execution_count": 10,
   "metadata": {},
   "outputs": [
    {
     "data": {
      "text/plain": [
       "[SystemMessage(content='You are a helpful assistant'),\n",
       " HumanMessage(content='what is the number 100 divided by 5'),\n",
       " AIMessage(content='20')]"
      ]
     },
     "execution_count": 10,
     "metadata": {},
     "output_type": "execute_result"
    }
   ],
   "source": [
    "message"
   ]
  },
  {
   "cell_type": "code",
   "execution_count": 11,
   "metadata": {},
   "outputs": [
    {
     "name": "stdout",
     "output_type": "stream",
     "text": [
      "\n",
      "\n",
      "\u001b[1m> Entering new LLMChain chain...\u001b[0m\n",
      "Prompt after formatting:\n",
      "\u001b[32;1m\u001b[1;3mGiven the following conversation and a follow up question, rephrase the follow up question to be a standalone question, in its original language.\n",
      "\n",
      "Chat History:\n",
      "\n",
      "system: You are a helpful assistant\n",
      "Human: what is the number 100 divided by 5\n",
      "Assistant: 20\n",
      "Follow Up Input: then add by 125\n",
      "Standalone question:\u001b[0m\n",
      "\n",
      "\u001b[1m> Finished chain.\u001b[0m\n",
      "\n",
      "\n",
      "\u001b[1m> Entering new StuffDocumentsChain chain...\u001b[0m\n",
      "\n",
      "\n",
      "\u001b[1m> Entering new LLMChain chain...\u001b[0m\n",
      "Prompt after formatting:\n",
      "\u001b[32;1m\u001b[1;3mUse the following pieces of context to answer the question at the end. If you don't know the answer, just say that you don't know, don't try to make up an answer.\n",
      "\n",
      "• Numpy, Pandas, Scikit Learn, TensorFlow, Keras, Matplotlib, Seaborn\n",
      "• Data Analysis data Processing, data cleaning, Image preprocessing,Data Visualization\n",
      "• Mathematics and Statistics:\n",
      "▪ Feature extraction,\n",
      "• Crafting Data Pipelines, Data Ingestion, Model Building\n",
      "• Git,WebAPI, Pyspark\n",
      "SOFT SKILLS\n",
      "• Creative, Analytical and problem-solving skills\n",
      "• Strong team mentality\n",
      "\n",
      "Freelancing\n",
      "o Successfully developed a highly accurate brain tumor prediction model using MRI images,\n",
      "achieving an impressive 95% accuracy [TensorFlow, CNN, git, Pipeline building, API, Python,\n",
      "Keras]\n",
      "• Managing data and workflows in a more organized and reproducible manner by DvC\n",
      "o Developed Diabetic retinopathy multiclass prediction model, with 42% improvement with CNN\n",
      "ensemble model by model optimization and image preprocessing and hyperparameter tuning.\n",
      "• Combine different CNN architecture to improve the performance of models (+8%)\n",
      "o Analysis data and generate insight to business for better understand the customer demand and\n",
      "improved the inventory control. [Python, Statistical analysis ] [02/2022]\n",
      "• Mechanical Engineering Trainee [05/2021 - 05/2022]\n",
      "The Western India Plywoods LTD.\n",
      "o Preventive and breakdown maintenance of plant, comprising of hydraulic presses, Boiler, Air\n",
      "compressor, Defibrator, Pumps, Control Valves etc\n",
      "\n",
      "• Mechanical Engineering Trainee [05/2021 - 05/2022]\n",
      "The Western India Plywoods LTD.\n",
      "o Preventive and breakdown maintenance of plant, comprising of hydraulic presses, Boiler, Air\n",
      "compressor, Defibrator, Pumps, Control Valves etc\n",
      "o Preventive and breakdown maintenance of resin plant, hydraulic and pneumatic machines.\n",
      "o Quality control & Quality assurance\n",
      "TECHNICAL SKILLS\n",
      "• Programming Languages:\n",
      "o Python: Proficient data manipulation, analysis, and building machine learning models,\n",
      "OOPs concept\n",
      "o SQL\n",
      "• Machine Learning:\n",
      "o Deep Learning: CNN, Neural network, NLP, LSTM, LLM (Large Language Model)\n",
      "o Supervised learning: Linear Regression, KNN\n",
      "o Hyperparameter Tuning: Expertise in fine-tuning model parameters\n",
      "• Numpy, Pandas, Scikit Learn, TensorFlow, Keras, Matplotlib, Seaborn\n",
      "• Data Analysis data Processing, data cleaning, Image preprocessing,Data Visualization\n",
      "• Mathematics and Statistics:\n",
      "▪ Feature extraction,\n",
      "• Crafting Data Pipelines, Data Ingestion, Model Building\n",
      "\n",
      "EDUCATION APJ ABDUL KALAM TECHNOLOGICAL UNIVERSITY 2015-2019\n",
      "• Bachelors in Mechanical Engineering\n",
      "WORKING EXPERIENCE\n",
      "• Data Scientist | Strategist [10/2022 - Present]\n",
      "Indo Space Cable Network\n",
      "o Successfully orchestrated a remarkable 41% surge in internet connections over the 4 months,\n",
      "driving substantial business growth and expanding the company's market presence.\n",
      "o Better allocation of service team to improve the service quality and save time and improve profit of\n",
      "the company.\n",
      "o “Proposed Project: “Complaint registration and auto allocation of Service man”\n",
      "• Data Scientist | Machine Learning Engineer [04/2022 - Present]\n",
      "Freelancing\n",
      "o Successfully developed a highly accurate brain tumor prediction model using MRI images,\n",
      "achieving an impressive 95% accuracy [TensorFlow, CNN, git, Pipeline building, API, Python,\n",
      "Keras]\n",
      "• Managing data and workflows in a more organized and reproducible manner by DvC\n",
      "\n",
      "Question: What is 100 divided by 5 plus 125?\n",
      "Helpful Answer:\u001b[0m\n",
      "\n",
      "\u001b[1m> Finished chain.\u001b[0m\n",
      "\n",
      "\u001b[1m> Finished chain.\u001b[0m\n"
     ]
    }
   ],
   "source": [
    "query           = \"then add by 125\"\n",
    "response        = conversation({'question':query,\n",
    "                                'chat_history':message})\n",
    "message.append(HumanMessage(content=query))\n",
    "message.append(AIMessage(content=response['answer']))"
   ]
  },
  {
   "cell_type": "code",
   "execution_count": null,
   "metadata": {},
   "outputs": [],
   "source": []
  },
  {
   "cell_type": "code",
   "execution_count": 12,
   "metadata": {},
   "outputs": [
    {
     "data": {
      "text/plain": [
       "{'question': 'then add by 125',\n",
       " 'chat_history': [SystemMessage(content='You are a helpful assistant'),\n",
       "  HumanMessage(content='what is the number 100 divided by 5'),\n",
       "  AIMessage(content='20'),\n",
       "  HumanMessage(content='then add by 125'),\n",
       "  AIMessage(content='225')],\n",
       " 'answer': '225'}"
      ]
     },
     "execution_count": 12,
     "metadata": {},
     "output_type": "execute_result"
    }
   ],
   "source": [
    "response"
   ]
  },
  {
   "cell_type": "code",
   "execution_count": 13,
   "metadata": {},
   "outputs": [
    {
     "name": "stdout",
     "output_type": "stream",
     "text": [
      "\n",
      "\n",
      "\u001b[1m> Entering new LLMChain chain...\u001b[0m\n",
      "Prompt after formatting:\n",
      "\u001b[32;1m\u001b[1;3mGiven the following conversation and a follow up question, rephrase the follow up question to be a standalone question, in its original language.\n",
      "\n",
      "Chat History:\n",
      "\n",
      "system: You are a helpful assistant\n",
      "Human: what is the number 100 divided by 5\n",
      "Assistant: 20\n",
      "Human: then add by 125\n",
      "Assistant: 225\n",
      "Follow Up Input: then divided by 225\n",
      "Standalone question:\u001b[0m\n",
      "\n",
      "\u001b[1m> Finished chain.\u001b[0m\n",
      "\n",
      "\n",
      "\u001b[1m> Entering new StuffDocumentsChain chain...\u001b[0m\n",
      "\n",
      "\n",
      "\u001b[1m> Entering new LLMChain chain...\u001b[0m\n",
      "Prompt after formatting:\n",
      "\u001b[32;1m\u001b[1;3mUse the following pieces of context to answer the question at the end. If you don't know the answer, just say that you don't know, don't try to make up an answer.\n",
      "\n",
      "Freelancing\n",
      "o Successfully developed a highly accurate brain tumor prediction model using MRI images,\n",
      "achieving an impressive 95% accuracy [TensorFlow, CNN, git, Pipeline building, API, Python,\n",
      "Keras]\n",
      "• Managing data and workflows in a more organized and reproducible manner by DvC\n",
      "o Developed Diabetic retinopathy multiclass prediction model, with 42% improvement with CNN\n",
      "ensemble model by model optimization and image preprocessing and hyperparameter tuning.\n",
      "• Combine different CNN architecture to improve the performance of models (+8%)\n",
      "o Analysis data and generate insight to business for better understand the customer demand and\n",
      "improved the inventory control. [Python, Statistical analysis ] [02/2022]\n",
      "• Mechanical Engineering Trainee [05/2021 - 05/2022]\n",
      "The Western India Plywoods LTD.\n",
      "o Preventive and breakdown maintenance of plant, comprising of hydraulic presses, Boiler, Air\n",
      "compressor, Defibrator, Pumps, Control Valves etc\n",
      "\n",
      "• Mechanical Engineering Trainee [05/2021 - 05/2022]\n",
      "The Western India Plywoods LTD.\n",
      "o Preventive and breakdown maintenance of plant, comprising of hydraulic presses, Boiler, Air\n",
      "compressor, Defibrator, Pumps, Control Valves etc\n",
      "o Preventive and breakdown maintenance of resin plant, hydraulic and pneumatic machines.\n",
      "o Quality control & Quality assurance\n",
      "TECHNICAL SKILLS\n",
      "• Programming Languages:\n",
      "o Python: Proficient data manipulation, analysis, and building machine learning models,\n",
      "OOPs concept\n",
      "o SQL\n",
      "• Machine Learning:\n",
      "o Deep Learning: CNN, Neural network, NLP, LSTM, LLM (Large Language Model)\n",
      "o Supervised learning: Linear Regression, KNN\n",
      "o Hyperparameter Tuning: Expertise in fine-tuning model parameters\n",
      "• Numpy, Pandas, Scikit Learn, TensorFlow, Keras, Matplotlib, Seaborn\n",
      "• Data Analysis data Processing, data cleaning, Image preprocessing,Data Visualization\n",
      "• Mathematics and Statistics:\n",
      "▪ Feature extraction,\n",
      "• Crafting Data Pipelines, Data Ingestion, Model Building\n",
      "\n",
      "EDUCATION APJ ABDUL KALAM TECHNOLOGICAL UNIVERSITY 2015-2019\n",
      "• Bachelors in Mechanical Engineering\n",
      "WORKING EXPERIENCE\n",
      "• Data Scientist | Strategist [10/2022 - Present]\n",
      "Indo Space Cable Network\n",
      "o Successfully orchestrated a remarkable 41% surge in internet connections over the 4 months,\n",
      "driving substantial business growth and expanding the company's market presence.\n",
      "o Better allocation of service team to improve the service quality and save time and improve profit of\n",
      "the company.\n",
      "o “Proposed Project: “Complaint registration and auto allocation of Service man”\n",
      "• Data Scientist | Machine Learning Engineer [04/2022 - Present]\n",
      "Freelancing\n",
      "o Successfully developed a highly accurate brain tumor prediction model using MRI images,\n",
      "achieving an impressive 95% accuracy [TensorFlow, CNN, git, Pipeline building, API, Python,\n",
      "Keras]\n",
      "• Managing data and workflows in a more organized and reproducible manner by DvC\n",
      "\n",
      "• Numpy, Pandas, Scikit Learn, TensorFlow, Keras, Matplotlib, Seaborn\n",
      "• Data Analysis data Processing, data cleaning, Image preprocessing,Data Visualization\n",
      "• Mathematics and Statistics:\n",
      "▪ Feature extraction,\n",
      "• Crafting Data Pipelines, Data Ingestion, Model Building\n",
      "• Git,WebAPI, Pyspark\n",
      "SOFT SKILLS\n",
      "• Creative, Analytical and problem-solving skills\n",
      "• Strong team mentality\n",
      "\n",
      "Question: What is 225 divided by 225?\n",
      "Helpful Answer:\u001b[0m\n",
      "\n",
      "\u001b[1m> Finished chain.\u001b[0m\n",
      "\n",
      "\u001b[1m> Finished chain.\u001b[0m\n",
      "1\n"
     ]
    }
   ],
   "source": [
    "query           = \"then divided by 225\"\n",
    "response        = conversation({'question':query,\n",
    "                                'chat_history':message})\n",
    "message.append(HumanMessage(content=query))\n",
    "message.append(AIMessage(content=response['answer']))\n",
    "print(response['answer'])"
   ]
  },
  {
   "cell_type": "code",
   "execution_count": 14,
   "metadata": {},
   "outputs": [
    {
     "data": {
      "text/plain": [
       "{'question': 'then divided by 225',\n",
       " 'chat_history': [SystemMessage(content='You are a helpful assistant'),\n",
       "  HumanMessage(content='what is the number 100 divided by 5'),\n",
       "  AIMessage(content='20'),\n",
       "  HumanMessage(content='then add by 125'),\n",
       "  AIMessage(content='225'),\n",
       "  HumanMessage(content='then divided by 225'),\n",
       "  AIMessage(content='1')],\n",
       " 'answer': '1'}"
      ]
     },
     "execution_count": 14,
     "metadata": {},
     "output_type": "execute_result"
    }
   ],
   "source": [
    "response"
   ]
  }
 ],
 "metadata": {
  "kernelspec": {
   "display_name": "nlp_env",
   "language": "python",
   "name": "python3"
  },
  "language_info": {
   "codemirror_mode": {
    "name": "ipython",
    "version": 3
   },
   "file_extension": ".py",
   "mimetype": "text/x-python",
   "name": "python",
   "nbconvert_exporter": "python",
   "pygments_lexer": "ipython3",
   "version": "3.9.0"
  }
 },
 "nbformat": 4,
 "nbformat_minor": 2
}
