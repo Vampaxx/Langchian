{
 "cells": [
  {
   "cell_type": "code",
   "execution_count": 1,
   "metadata": {},
   "outputs": [],
   "source": [
    "import os\n",
    "from dotenv import load_dotenv\n",
    "from langchain.llms import GooglePalm\n",
    "from langchain.prompts import SemanticSimilarityExampleSelector\n",
    "from langchain.schema import (SystemMessage,HumanMessage,AIMessage,)\n",
    "from langchain.chains.conversation.memory import ConversationBufferMemory\n",
    "from langchain.chains import ConversationChain"
   ]
  },
  {
   "cell_type": "code",
   "execution_count": 6,
   "metadata": {},
   "outputs": [],
   "source": [
    "model   = GooglePalm(google_api_key=os.getenv(\"PALM_API_KEY\"),temperature=0.25)\n",
    "memory  = ConversationBufferMemory()"
   ]
  },
  {
   "cell_type": "code",
   "execution_count": 7,
   "metadata": {},
   "outputs": [],
   "source": [
    "conversation = ConversationChain(llm=model,\n",
    "                                 verbose=True,\n",
    "                                 memory=memory)"
   ]
  },
  {
   "cell_type": "code",
   "execution_count": 10,
   "metadata": {},
   "outputs": [
    {
     "name": "stdout",
     "output_type": "stream",
     "text": [
      "\n",
      "\n",
      "\u001b[1m> Entering new ConversationChain chain...\u001b[0m\n",
      "Prompt after formatting:\n",
      "\u001b[32;1m\u001b[1;3mThe following is a friendly conversation between a human and an AI. The AI is talkative and provides lots of specific details from its context. If the AI does not know the answer to a question, it truthfully says it does not know.\n",
      "\n",
      "Current conversation:\n",
      "\n",
      "Human: My name is dream walker\n",
      "AI:\u001b[0m\n",
      "\n",
      "\u001b[1m> Finished chain.\u001b[0m\n"
     ]
    },
    {
     "data": {
      "text/plain": [
       "'It is nice to meet you Dream Walker. What can I help you with today?'"
      ]
     },
     "execution_count": 10,
     "metadata": {},
     "output_type": "execute_result"
    }
   ],
   "source": [
    "conversation.predict(input= \"My name is dream walker\",)"
   ]
  },
  {
   "cell_type": "code",
   "execution_count": 12,
   "metadata": {},
   "outputs": [
    {
     "name": "stdout",
     "output_type": "stream",
     "text": [
      "\n",
      "\n",
      "\u001b[1m> Entering new ConversationChain chain...\u001b[0m\n",
      "Prompt after formatting:\n",
      "\u001b[32;1m\u001b[1;3mThe following is a friendly conversation between a human and an AI. The AI is talkative and provides lots of specific details from its context. If the AI does not know the answer to a question, it truthfully says it does not know.\n",
      "\n",
      "Current conversation:\n",
      "Human: My name is dream walker\n",
      "AI: It is nice to meet you Dream Walker. What can I help you with today?\n",
      "Human: what is ma name\n",
      "AI: Your name is Dream Walker.\n",
      "Human: what is ma name\n",
      "AI:\u001b[0m\n",
      "\n",
      "\u001b[1m> Finished chain.\u001b[0m\n"
     ]
    },
    {
     "data": {
      "text/plain": [
       "'Your name is Dream Walker.'"
      ]
     },
     "execution_count": 12,
     "metadata": {},
     "output_type": "execute_result"
    }
   ],
   "source": [
    "conversation.predict(input='what is ma name')"
   ]
  },
  {
   "cell_type": "code",
   "execution_count": 13,
   "metadata": {},
   "outputs": [
    {
     "name": "stdout",
     "output_type": "stream",
     "text": [
      "chat_memory=ChatMessageHistory(messages=[HumanMessage(content='My name is dream walker'), AIMessage(content='It is nice to meet you Dream Walker. What can I help you with today?'), HumanMessage(content='what is ma name'), AIMessage(content='Your name is Dream Walker.'), HumanMessage(content='what is ma name'), AIMessage(content='Your name is Dream Walker.')])\n"
     ]
    }
   ],
   "source": [
    "print(conversation.memory)"
   ]
  },
  {
   "cell_type": "code",
   "execution_count": 14,
   "metadata": {},
   "outputs": [
    {
     "name": "stdout",
     "output_type": "stream",
     "text": [
      "Human: My name is dream walker\n",
      "AI: It is nice to meet you Dream Walker. What can I help you with today?\n",
      "Human: what is ma name\n",
      "AI: Your name is Dream Walker.\n",
      "Human: what is ma name\n",
      "AI: Your name is Dream Walker.\n"
     ]
    }
   ],
   "source": [
    "print(conversation.memory.buffer)"
   ]
  },
  {
   "cell_type": "code",
   "execution_count": 17,
   "metadata": {},
   "outputs": [
    {
     "name": "stdout",
     "output_type": "stream",
     "text": [
      "\n",
      "\n",
      "\u001b[1m> Entering new ConversationChain chain...\u001b[0m\n",
      "Prompt after formatting:\n",
      "\u001b[32;1m\u001b[1;3mThe following is a friendly conversation between a human and an AI. The AI is talkative and provides lots of specific details from its context. If the AI does not know the answer to a question, it truthfully says it does not know.\n",
      "\n",
      "Current conversation:\n",
      "Human: My name is dream walker\n",
      "AI: It is nice to meet you Dream Walker. What can I help you with today?\n",
      "Human: what is ma name\n",
      "AI: Your name is Dream Walker.\n",
      "Human: what is ma name\n",
      "AI: Your name is Dream Walker.\n",
      "Human: how you can help me today\n",
      "AI:\u001b[0m\n",
      "\n",
      "\u001b[1m> Finished chain.\u001b[0m\n"
     ]
    },
    {
     "data": {
      "text/plain": [
       "{'input': 'how you can help me today',\n",
       " 'history': 'Human: My name is dream walker\\nAI: It is nice to meet you Dream Walker. What can I help you with today?\\nHuman: what is ma name\\nAI: Your name is Dream Walker.\\nHuman: what is ma name\\nAI: Your name is Dream Walker.',\n",
       " 'response': 'I can help you with a variety of tasks, such as:\\n\\n* Answering your questions\\n* Providing information\\n* Completing tasks\\n* Scheduling appointments\\n* Playing games\\n* And more!\\n\\nJust let me know what you need help with, and I will do my best to assist you.'}"
      ]
     },
     "execution_count": 17,
     "metadata": {},
     "output_type": "execute_result"
    }
   ],
   "source": [
    "conversation(inputs='how you can help me today')"
   ]
  },
  {
   "cell_type": "code",
   "execution_count": null,
   "metadata": {},
   "outputs": [],
   "source": []
  }
 ],
 "metadata": {
  "kernelspec": {
   "display_name": "brain",
   "language": "python",
   "name": "python3"
  },
  "language_info": {
   "codemirror_mode": {
    "name": "ipython",
    "version": 3
   },
   "file_extension": ".py",
   "mimetype": "text/x-python",
   "name": "python",
   "nbconvert_exporter": "python",
   "pygments_lexer": "ipython3",
   "version": "3.9.0"
  }
 },
 "nbformat": 4,
 "nbformat_minor": 2
}
