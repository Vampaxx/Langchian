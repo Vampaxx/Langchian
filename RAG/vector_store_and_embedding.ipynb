{
 "cells": [
  {
   "cell_type": "code",
   "execution_count": 2,
   "metadata": {},
   "outputs": [],
   "source": [
    "import os\n",
    "#import openai\n",
    "import sys\n",
    "sys.path.append('../..')\n",
    "\n",
    "from dotenv import load_dotenv, find_dotenv\n",
    "_ = load_dotenv(find_dotenv()) # read local .env file\n",
    "\n",
    "#openai.api_key  = os.environ['OPENAI_API_KEY']"
   ]
  },
  {
   "cell_type": "code",
   "execution_count": 9,
   "metadata": {},
   "outputs": [],
   "source": [
    "from langchain.document_loaders import PyPDFLoader\n",
    "\n",
    "# Load PDF\n",
    "loaders = [\n",
    "    # Duplicate documents on purpose - messy data\n",
    "    PyPDFLoader(r\"C:\\\\Users\\Asus\\Downloads\\\\LLM.pdf\"),\n",
    "    PyPDFLoader(r\"C:\\\\Users\\Asus\\Downloads\\\\proof of concept-1.pdf\"),\n",
    "]\n",
    "docs = []\n",
    "for loader in loaders:\n",
    "    docs.extend(loader.load())"
   ]
  },
  {
   "cell_type": "code",
   "execution_count": 8,
   "metadata": {},
   "outputs": [],
   "source": [
    "from langchain.document_loaders import PyPDFLoader\n",
    "\n",
    "\n",
    "loaders = [\n",
    "    PyPDFLoader(r\"C:\\\\Users\\Asus\\Downloads\\\\TRJ7H4KB.pdf\"),\n",
    "]\n",
    "for loader in loaders:\n",
    "    loader.load()"
   ]
  },
  {
   "cell_type": "code",
   "execution_count": 14,
   "metadata": {},
   "outputs": [],
   "source": [
    "pdf_file = PyPDFLoader(r\"C:\\\\Users\\Asus\\Downloads\\\\TRJ7H4KB.pdf\").load()"
   ]
  },
  {
   "cell_type": "code",
   "execution_count": 24,
   "metadata": {},
   "outputs": [
    {
     "name": "stdout",
     "output_type": "stream",
     "text": [
      "['12 ', '  ', ' ', 'Lessor :  Manager of Real Estate  ', 'GSD – Real Estate Services  ', '17th Floor, City Hall  ', '414 E. 12th Street  ', 'Kansas City, MO 64106  ', ' ', 'Lessor  agrees to accept Rent at the above -referenced address.  ', ' ', ' Any change in the Lessor  entity (including, but not limited to, property ownership, address for ', 'notices, etc.) must be authorized in writing by the named Lessor , its mortgagor, or by court order and sent ', 'to all the required notification parties as listed above. Absent such accept able authorization, Lessee shall ', 'not be in default of this Lease if it continues to pay Rent to the then current Lessor , nor shall it lose any of ', 'its rights, privileges (including, but not limited to, renewal options) as specified herein . ', ' ', '6.  Exclusive Us e and Competition .  Lessor  agrees not to sell, lease, let, use or permit to be used, ', 'any portion of the  Building or any other property owned or controlled by Lessor  within the Center  now or ', 'at any time during the initial Term of this Lease or any renewal t hereof to any entity whose primary use is ', 'the sale of deli -style sandwiches.  Further, Lessor  agrees that current tenants shall be prohibited from adding ', 'items to their menus which conflict with Tenant’s Exclusive.   ', ' ', 'IN WITNESS WHEREOF, each party hereto has caused this Lease to be executed on behalf of ', 'such party by an authorized representative as of the date first set forth above.  ', ' ', 'LESSEE:  ', ' ', 'Subway Real Estate,  LLC  ', ' ', 'BY __________________________  ', 'Name:  Kristine Zaniewski  ', 'Title:  Duly Authorized  ', ' ', 'LESSOR:  ', ' ', 'CITY OF KANSAS CITY, MISSOURI,  ', 'A Constitutionally Chartered Municipal  ', 'Corporation of the State of Missouri  ', ' ', 'BY__________________________  ', 'Yolanda McKinzy  ', 'Director, General Services City of Kansas City, MO  ', ' ', 'PPROVED AS TO FOR M:  ', ' ', 'BY__________________________  ', 'Abigail Judah  ', 'Assistant City Attorne y ', 'DocuSign Envelope ID: 23D7BCC8-7883-424E-B0E4-F211F4D3EBB2', 'DocuSign Envelope ID: 404BC45C-3461-4DB3-94A2-82FF2A7F312C', '3/19/2024', '']\n"
     ]
    }
   ],
   "source": [
    "print(pdf_file[11].page_content.split(\"\\n\"))"
   ]
  },
  {
   "cell_type": "code",
   "execution_count": 17,
   "metadata": {},
   "outputs": [],
   "source": [
    "# Split\n",
    "from langchain.text_splitter import RecursiveCharacterTextSplitter\n",
    "text_splitter = RecursiveCharacterTextSplitter(\n",
    "    chunk_size = 1500,\n",
    "    chunk_overlap = 150\n",
    ")"
   ]
  },
  {
   "cell_type": "code",
   "execution_count": 18,
   "metadata": {},
   "outputs": [
    {
     "data": {
      "text/plain": [
       "['   ',\n",
       " ' ',\n",
       " '   ',\n",
       " '  ',\n",
       " ' ',\n",
       " 'Overview  ',\n",
       " 'Develop a sophisticated and AI -driven solution for recommending and formulating ',\n",
       " 'optimal digital marketing campaign parameters on platforms like Google and Facebook. ',\n",
       " 'The primary focus is on leveraging historical campaign data, provided in JSON format for ',\n",
       " 'the past two years, to design and implement a robust recommendation system. This ',\n",
       " 'system will play a pivotal role in understanding client requirements and tailoring digital ',\n",
       " 'marketing campaigns to achieve specific outcomes, such as increased sales conversions ',\n",
       " 'or a higher number of leads.  ',\n",
       " ' ',\n",
       " ' ',\n",
       " ' ',\n",
       " ' The objective encompasses the following key components:  ',\n",
       " ' ',\n",
       " '1. Recommendation System Development:  Design and implement an advanced ',\n",
       " 'recommendation system leveraging artificial intelligence. This system should have ',\n",
       " 'the capability to analyze historical campaign data. The objective is to develop a ',\n",
       " 'sophisticated algorithm that identifies patterns, correlat ions, and critical factors ',\n",
       " 'influencing the success of digital marketing campaigns.  ',\n",
       " ' ',\n",
       " '2. Client Objective Understanding:  Develop the system to be adept at comprehending ',\n",
       " 'client requirements. This involves creating a mechanism within the ',\n",
       " 'recommendation system to interpret and assimilate client objectives effectively. ',\n",
       " 'The system should be capable of extracting meaningful insig hts from client input ',\n",
       " 'to tailor campaigns accordingly.  ',\n",
       " ' ',\n",
       " '3. Optimized Campaign Parameter Generation:  Implement functionality within the ',\n",
       " 'recommendation system to generate optimized digital marketing campaign ',\n",
       " 'parameters. The system should dynamically adjust campaign elements based on ',\n",
       " 'the insights derived from historical data analysis and the understanding of client ',\n",
       " 'objectives. The ultimate aim is to formulate parameters that enhance specific ',\n",
       " 'outcomes, such as increased sales conversions or a higher number of leads.  ',\n",
       " ' ',\n",
       " ' ',\n",
       " ' ',\n",
       " ' ',\n",
       " ' ']"
      ]
     },
     "execution_count": 18,
     "metadata": {},
     "output_type": "execute_result"
    }
   ],
   "source": [
    "docs[2].page_content.split(\"\\n\")"
   ]
  },
  {
   "cell_type": "code",
   "execution_count": 42,
   "metadata": {},
   "outputs": [],
   "source": [
    "splits = text_splitter.split_documents(docs)"
   ]
  },
  {
   "cell_type": "code",
   "execution_count": null,
   "metadata": {},
   "outputs": [],
   "source": [
    "## "
   ]
  },
  {
   "cell_type": "markdown",
   "metadata": {},
   "source": [
    "## Embeddings"
   ]
  },
  {
   "cell_type": "code",
   "execution_count": null,
   "metadata": {},
   "outputs": [],
   "source": [
    "from langchain.embeddings.openai import OpenAIEmbeddings\n",
    "embedding = OpenAIEmbeddings()"
   ]
  },
  {
   "cell_type": "code",
   "execution_count": 43,
   "metadata": {},
   "outputs": [],
   "source": [
    "sentence1 = \"i like dogs\"\n",
    "sentence2 = \"i like canines\"\n",
    "sentence3 = \"the weather is ugly outside\""
   ]
  },
  {
   "cell_type": "code",
   "execution_count": null,
   "metadata": {},
   "outputs": [],
   "source": [
    "embedding1 = embedding.embed_query(sentence1)\n",
    "embedding2 = embedding.embed_query(sentence2)\n",
    "embedding3 = embedding.embed_query(sentence3)"
   ]
  },
  {
   "cell_type": "code",
   "execution_count": 44,
   "metadata": {},
   "outputs": [],
   "source": [
    "import numpy as np"
   ]
  },
  {
   "cell_type": "code",
   "execution_count": null,
   "metadata": {},
   "outputs": [],
   "source": [
    "np.dot(embedding1, embedding2)"
   ]
  },
  {
   "cell_type": "code",
   "execution_count": null,
   "metadata": {},
   "outputs": [],
   "source": [
    "np.dot(embedding1, embedding3)"
   ]
  },
  {
   "cell_type": "code",
   "execution_count": null,
   "metadata": {},
   "outputs": [],
   "source": [
    "np.dot(embedding2, embedding3)  "
   ]
  },
  {
   "cell_type": "code",
   "execution_count": null,
   "metadata": {},
   "outputs": [],
   "source": []
  },
  {
   "cell_type": "code",
   "execution_count": 45,
   "metadata": {},
   "outputs": [],
   "source": [
    "from langchain.vectorstores import Chroma"
   ]
  },
  {
   "cell_type": "code",
   "execution_count": null,
   "metadata": {},
   "outputs": [],
   "source": [
    "persist_directory = 'docs/chroma/'"
   ]
  },
  {
   "cell_type": "code",
   "execution_count": null,
   "metadata": {},
   "outputs": [],
   "source": [
    "!rm -rf ./docs/chroma  # remove old database files if any"
   ]
  },
  {
   "cell_type": "code",
   "execution_count": null,
   "metadata": {},
   "outputs": [],
   "source": [
    "vectordb = Chroma.from_documents(\n",
    "    documents=splits,\n",
    "    embedding=embedding,\n",
    "    persist_directory=persist_directory\n",
    ")"
   ]
  },
  {
   "cell_type": "code",
   "execution_count": null,
   "metadata": {},
   "outputs": [],
   "source": [
    "print(vectordb._collection.count())"
   ]
  },
  {
   "cell_type": "code",
   "execution_count": null,
   "metadata": {},
   "outputs": [],
   "source": []
  },
  {
   "cell_type": "markdown",
   "metadata": {},
   "source": [
    "## Similarity search"
   ]
  },
  {
   "cell_type": "code",
   "execution_count": null,
   "metadata": {},
   "outputs": [],
   "source": [
    "question = \"is there an email i can ask for help\"\n",
    "\n",
    "\n",
    "docs = vectordb.similarity_search(question,k=3) ## search most 3 similar searches\n",
    "\n",
    "len(docs)\n"
   ]
  }
 ],
 "metadata": {
  "kernelspec": {
   "display_name": "llm_env",
   "language": "python",
   "name": "python3"
  },
  "language_info": {
   "codemirror_mode": {
    "name": "ipython",
    "version": 3
   },
   "file_extension": ".py",
   "mimetype": "text/x-python",
   "name": "python",
   "nbconvert_exporter": "python",
   "pygments_lexer": "ipython3",
   "version": "3.9.19"
  }
 },
 "nbformat": 4,
 "nbformat_minor": 2
}
